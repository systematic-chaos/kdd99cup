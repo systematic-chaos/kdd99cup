{
 "cells": [
  {
   "cell_type": "markdown",
   "metadata": {},
   "source": [
    "**Package imports and configuration parameters**"
   ]
  },
  {
   "cell_type": "code",
   "execution_count": 1,
   "metadata": {},
   "outputs": [
    {
     "name": "stderr",
     "output_type": "stream",
     "text": []
    }
   ],
   "source": [
    "import matplotlib.pyplot as plt\n",
    "%matplotlib inline\n",
    "%config IPCompleter.greedy=True\n",
    "\n",
    "from pyspark import SparkContext, SparkConf\n",
    "from pyspark.sql import SparkSession\n",
    "\n",
    "conf = SparkConf().setAppName(\"QualitativeMultinomialModel\").setMaster('local[*]')\n",
    "context = SparkContext(conf=conf)\n",
    "session = SparkSession(context)"
   ]
  },
  {
   "cell_type": "markdown",
   "metadata": {},
   "source": [
    "**Load data into a RDD**"
   ]
  },
  {
   "cell_type": "code",
   "execution_count": 2,
   "metadata": {},
   "outputs": [
    {
     "name": "stdout",
     "output_type": "stream",
     "text": [
      "10000\n",
      "1000\n"
     ]
    },
    {
     "name": "stderr",
     "output_type": "stream",
     "text": []
    },
    {
     "data": {
      "text/plain": [
       "['0,tcp,http,SF,215,45076,0,0,0,0,0,1,0,0,0,0,0,0,0,0,0,0,1,1,0.00,0.00,0.00,0.00,1.00,0.00,0.00,0,0,0.00,0.00,0.00,0.00,0.00,0.00,0.00,0.00,normal.']"
      ]
     },
     "execution_count": 2,
     "metadata": {},
     "output_type": "execute_result"
    }
   ],
   "source": [
    "train_file = \"./DATA/kddcup.data.10000.gz\"\n",
    "test_file = \"./DATA/corrected.1000.gz\"\n",
    "\n",
    "train_data = context.textFile(train_file)\n",
    "test_data  = context.textFile(test_file)\n",
    "print(train_data.count())\n",
    "print(test_data.count())\n",
    "train_data.take(1)"
   ]
  },
  {
   "cell_type": "markdown",
   "metadata": {},
   "source": [
    "**Splitting data in subgroups**"
   ]
  },
  {
   "cell_type": "code",
   "execution_count": 3,
   "metadata": {},
   "outputs": [
    {
     "name": "stdout",
     "output_type": "stream",
     "text": [
      "10000\n",
      "1000\n"
     ]
    },
    {
     "data": {
      "text/plain": [
       "['0,udp,private,SF,105,146,0,0,0,0,0,0,0,0,0,0,0,0,0,0,0,0,2,2,0.00,0.00,0.00,0.00,1.00,0.00,0.00,255,254,1.00,0.01,0.00,0.00,0.00,0.00,0.00,0.00,snmpgetattack.']"
      ]
     },
     "execution_count": 3,
     "metadata": {},
     "output_type": "execute_result"
    }
   ],
   "source": [
    "train_data_1, train_data_2 = train_data.randomSplit([7, 3], 10)\n",
    "test_data_1, test_data_2 = test_data.randomSplit([1, 9], 12)\n",
    "train_data = train_data_1.union(train_data_2)\n",
    "test_data = test_data_1.union(test_data_2)\n",
    "\n",
    "print(train_data.count())\n",
    "print(test_data.count())\n",
    "test_data.take(1)"
   ]
  },
  {
   "cell_type": "markdown",
   "metadata": {},
   "source": [
    "**Data preparation into [label, vector] tuples from the label field in the last column along with quantitative characteristics and the indexed and codified form of qualitative (categorical) characteristics.**"
   ]
  },
  {
   "cell_type": "code",
   "execution_count": 4,
   "metadata": {},
   "outputs": [
    {
     "name": "stderr",
     "output_type": "stream",
     "text": []
    },
    {
     "data": {
      "text/plain": [
       "Row(_1='0', _2='tcp', _3='http', _4='SF', _5='215', _6='45076', _7='0', _8='0', _9='0', _10='0', _11='0', _12='1', _13='0', _14='0', _15='0', _16='0', _17='0', _18='0', _19='0', _20='0', _21='0', _22='0', _23='1', _24='1', _25='0.00', _26='0.00', _27='0.00', _28='0.00', _29='1.00', _30='0.00', _31='0.00', _32='0', _33='0', _34='0.00', _35='0.00', _36='0.00', _37='0.00', _38='0.00', _39='0.00', _40='0.00', _41='0.00', _42='normal.')"
      ]
     },
     "execution_count": 4,
     "metadata": {},
     "output_type": "execute_result"
    }
   ],
   "source": [
    "train_data_df = train_data.map(lambda x: x.split(',')).toDF()\n",
    "test_data_df  = test_data.map(lambda x: x.split(',')).toDF()\n",
    "\n",
    "train_data_df.head()"
   ]
  },
  {
   "cell_type": "code",
   "execution_count": 5,
   "metadata": {},
   "outputs": [],
   "source": [
    "from pyspark.ml.feature import OneHotEncoder, StringIndexer\n",
    "from pyspark.ml import Pipeline\n",
    "from pyspark.mllib.linalg import Vectors\n",
    "from pyspark.sql.functions import udf, monotonically_increasing_id\n",
    "from pyspark.sql.types import ArrayType, DoubleType, IntegerType\n",
    "\n",
    "train_cat_cols = train_data_df.select(train_data_df.columns[1:4])\n",
    "test_cat_cols  = test_data_df.select(test_data_df.columns[1:4])\n",
    "\n",
    "train_data_df = train_data_df.withColumn(\"id\", monotonically_increasing_id()).drop(*train_data_df.columns[1:4])\n",
    "test_data_df  = test_data_df.withColumn(\"id\", monotonically_increasing_id()).drop(*test_data_df.columns[1:4])\n",
    "\n",
    "label_column = train_data_df.columns[-1]\n",
    "label_index  = train_data_df.columns.index(label_column) - 1\n",
    "\n",
    "stages = [ StringIndexer(inputCol='_'+str(i+1), outputCol='ind'+str(i), handleInvalid='keep') for i in range(1, 4) ]\n",
    "stages.append(OneHotEncoder(inputCols=[ 'ind'+str(i) for i in range(1,4) ], outputCols=[ 'cat'+str(i) for i in range(1,4) ], dropLast=False))\n",
    "pipeline = Pipeline(stages=stages)\n",
    "categorization_model = pipeline.fit(train_cat_cols)\n",
    "\n",
    "col_mapping_udf = udf(lambda c: c.toArray().tolist(), returnType=ArrayType(DoubleType()))"
   ]
  },
  {
   "cell_type": "code",
   "execution_count": 6,
   "metadata": {},
   "outputs": [
    {
     "name": "stdout",
     "output_type": "stream",
     "text": [
      "Row(cat1=[1.0, 0.0, 0.0, 0.0], cat2=[1.0, 0.0, 0.0, 0.0, 0.0, 0.0, 0.0, 0.0, 0.0, 0.0, 0.0], cat3=[1.0, 0.0, 0.0, 0.0, 0.0])\n",
      "[4, 11, 5]\n"
     ]
    },
    {
     "name": "stderr",
     "output_type": "stream",
     "text": []
    }
   ],
   "source": [
    "def vectorize_categoric_columns(df, cols):\n",
    "    dataframe = categorization_model.transform(df)\n",
    "    for c in cols:\n",
    "        dataframe = dataframe.withColumn(c, col_mapping_udf(c))\n",
    "    return dataframe\n",
    "\n",
    "cat_cols = [ 'cat' + str(i) for i in range(1, 4) ]\n",
    "train_vect_cols = vectorize_categoric_columns(train_cat_cols, cat_cols).select(cat_cols)\n",
    "test_vect_cols  = vectorize_categoric_columns(test_cat_cols,  cat_cols).select(cat_cols)\n",
    "\n",
    "example_row = train_vect_cols.take(1)[0]\n",
    "num_vals_col = [ len(col) for col in example_row ]\n",
    "\n",
    "print(example_row)\n",
    "print(num_vals_col)"
   ]
  },
  {
   "cell_type": "code",
   "execution_count": 7,
   "metadata": {},
   "outputs": [
    {
     "name": "stdout",
     "output_type": "stream",
     "text": [
      "[DataFrame[cat1_1: int, cat1_2: int, cat1_3: int, cat1_4: int], DataFrame[cat2_1: int, cat2_2: int, cat2_3: int, cat2_4: int, cat2_5: int, cat2_6: int, cat2_7: int, cat2_8: int, cat2_9: int, cat2_10: int, cat2_11: int], DataFrame[cat3_1: int, cat3_2: int, cat3_3: int, cat3_4: int, cat3_5: int]]\n"
     ]
    }
   ],
   "source": [
    "def split_vectorized_columns(df):\n",
    "    vect_cols = []\n",
    "    for i in range(len(num_vals_col)):\n",
    "        lab = 'cat' + str(i + 1)\n",
    "        vect_cols.append(df.select([ df[lab][j].cast(IntegerType()).alias(lab+'_'+str(j+1)) for j in range(num_vals_col[i]) ]))\n",
    "    return vect_cols\n",
    "\n",
    "train_vect_cols = split_vectorized_columns(train_vect_cols)\n",
    "test_vect_cols  = split_vectorized_columns(test_vect_cols)\n",
    "\n",
    "print(train_vect_cols)"
   ]
  },
  {
   "cell_type": "code",
   "execution_count": 8,
   "metadata": {},
   "outputs": [
    {
     "name": "stdout",
     "output_type": "stream",
     "text": [
      "DataFrame[id: bigint, cat1_1: int, cat1_2: int, cat1_3: int, cat1_4: int, cat2_1: int, cat2_2: int, cat2_3: int, cat2_4: int, cat2_5: int, cat2_6: int, cat2_7: int, cat2_8: int, cat2_9: int, cat2_10: int, cat2_11: int, cat3_1: int, cat3_2: int, cat3_3: int, cat3_4: int, cat3_5: int]\n"
     ]
    }
   ],
   "source": [
    "def merge_vectorized_cols_df(vect_cols_df):\n",
    "    vect_cols = [ vcdf.withColumn('id', monotonically_increasing_id()) for vcdf in vect_cols_df ]\n",
    "    for i in range(1, len(num_vals_col)):\n",
    "        vect_cols[0] = vect_cols[0].join(vect_cols[i], 'id', 'outer')\n",
    "    return vect_cols[0]\n",
    "\n",
    "train_vect_df = merge_vectorized_cols_df(train_vect_cols)\n",
    "test_vect_df  = merge_vectorized_cols_df(test_vect_cols)\n",
    "\n",
    "print(train_vect_df)"
   ]
  },
  {
   "cell_type": "code",
   "execution_count": 9,
   "metadata": {},
   "outputs": [
    {
     "name": "stdout",
     "output_type": "stream",
     "text": [
      "DataFrame[_1: string, _5: string, _6: string, _7: string, _8: string, _9: string, _10: string, _11: string, _12: string, _13: string, _14: string, _15: string, _16: string, _17: string, _18: string, _19: string, _20: string, _21: string, _22: string, _23: string, _24: string, _25: string, _26: string, _27: string, _28: string, _29: string, _30: string, _31: string, _32: string, _33: string, _34: string, _35: string, _36: string, _37: string, _38: string, _39: string, _40: string, _41: string, _42: string, cat1_1: int, cat1_2: int, cat1_3: int, cat1_4: int, cat2_1: int, cat2_2: int, cat2_3: int, cat2_4: int, cat2_5: int, cat2_6: int, cat2_7: int, cat2_8: int, cat2_9: int, cat2_10: int, cat2_11: int, cat3_1: int, cat3_2: int, cat3_3: int, cat3_4: int, cat3_5: int]\n"
     ]
    }
   ],
   "source": [
    "train_data_df = train_data_df.join(train_vect_df, 'id', 'outer').drop('id')\n",
    "test_data_df  = test_data_df.join(test_vect_df, 'id', 'outer').drop('id')\n",
    "\n",
    "print(train_data_df)"
   ]
  },
  {
   "cell_type": "code",
   "execution_count": 10,
   "metadata": {},
   "outputs": [
    {
     "name": "stderr",
     "output_type": "stream",
     "text": []
    },
    {
     "name": "stdout",
     "output_type": "stream",
     "text": [
      "10000\n",
      "[('normal.', array(['0', '215', '45076', '0', '0', '0', '0', '0', '1', '0', '0', '0',\n",
      "       '0', '0', '0', '0', '0', '0', '0', '1', '1', '0.00', '0.00',\n",
      "       '0.00', '0.00', '1.00', '0.00', '0.00', '0', '0', '0.00', '0.00',\n",
      "       '0.00', '0.00', '0.00', '0.00', '0.00', '0.00', '1', '0', '0', '0',\n",
      "       '1', '0', '0', '0', '0', '0', '0', '0', '0', '0', '0', '1', '0',\n",
      "       '0', '0', '0'], dtype='<U21'))]\n",
      "1000\n",
      "[('snmpgetattack.', array(['0', '105', '146', '0', '0', '0', '0', '0', '0', '0', '0', '0',\n",
      "       '0', '0', '0', '0', '0', '0', '0', '2', '2', '0.00', '0.00',\n",
      "       '0.00', '0.00', '1.00', '0.00', '0.00', '255', '254', '1.00',\n",
      "       '0.01', '0.00', '0.00', '0.00', '0.00', '0.00', '0.00', '0', '1',\n",
      "       '0', '0', '0', '0', '0', '0', '0', '0', '0', '0', '0', '0', '1',\n",
      "       '1', '0', '0', '0', '0'], dtype='<U21'))]\n"
     ]
    }
   ],
   "source": [
    "import numpy as np\n",
    "\n",
    "def prepare_data(data):\n",
    "    label = data[label_index]\n",
    "    vector = np.array(data[: label_index] + data[label_index+1 :])\n",
    "    return (label, vector)\n",
    "\n",
    "tr_threat = train_data_df.rdd.map(prepare_data)\n",
    "print(tr_threat.count())\n",
    "print(tr_threat.take(1))\n",
    "\n",
    "ts_threat = test_data_df.rdd.map(prepare_data)\n",
    "print(ts_threat.count())\n",
    "print(ts_threat.take(1))"
   ]
  },
  {
   "cell_type": "markdown",
   "metadata": {},
   "source": [
    "**Descriptive statistics**"
   ]
  },
  {
   "cell_type": "code",
   "execution_count": 11,
   "metadata": {},
   "outputs": [
    {
     "data": {
      "image/png": "[encoded data removed]",
      "text/plain": [
       "<Figure size 432x288 with 1 Axes>"
      ]
     },
     "metadata": {
      "needs_background": "light"
     },
     "output_type": "display_data"
    },
    {
     "data": {
      "image/png": "[encoded data removed]",
      "text/plain": [
       "<Figure size 432x288 with 1 Axes>"
      ]
     },
     "metadata": {
      "needs_background": "light"
     },
     "output_type": "display_data"
    }
   ],
   "source": [
    "from operator import add\n",
    "\n",
    "ltr_threat = tr_threat.map(lambda x: x[0])\n",
    "tr_threat  = tr_threat.map(lambda x: x[1])\n",
    "\n",
    "lts_threat = ts_threat.map(lambda x: x[0])\n",
    "ts_threat  = ts_threat.map(lambda x: x[1])\n",
    "\n",
    "def descriptive_statistics(labelled_threat):\n",
    "    threat_count = labelled_threat.map(lambda lt: (lt, 1)).reduceByKey(add).collect()\n",
    "\n",
    "    threat_labels = list(map(lambda x: x[0], threat_count))\n",
    "    threat_values = list(map(lambda x: x[1], threat_count))\n",
    "    y_pos = np.arange(len(threat_labels))\n",
    "\n",
    "    plt.bar(y_pos, threat_values, align='center', alpha=0.5)\n",
    "    plt.xticks(y_pos, threat_labels, rotation=90)\n",
    "    plt.ylabel(\"Absolute Frequency\")\n",
    "    plt.show()\n",
    "\n",
    "    return zip(threat_labels, threat_values)\n",
    "\n",
    "labels = [ lab[0][: -1] for lab in descriptive_statistics(ltr_threat) ]\n",
    "\n",
    "_ = descriptive_statistics(lts_threat)"
   ]
  },
  {
   "cell_type": "markdown",
   "metadata": {},
   "source": [
    "**Scaling characteristics to mu=0 and delta=1**"
   ]
  },
  {
   "cell_type": "code",
   "execution_count": 12,
   "metadata": {},
   "outputs": [
    {
     "name": "stdout",
     "output_type": "stream",
     "text": [
      "Train: [DenseVector([-0.0349, -0.198, 3.8659, 0.0, 0.0, -0.01, -0.0907, 0.0, 0.2504, -0.014, -0.0283, -0.0141, -0.0135, -0.0214, -0.0141, -0.0371, 0.0, 0.0, -0.1093, -0.7925, -0.8653, -0.0587, -0.0596, 0.0, 0.0, 0.0828, -0.0829, -0.4651, -1.1016, -2.5515, -5.1268, -0.2638, -0.4303, -0.5242, -0.1213, -0.1292, 0.0, 0.0, 0.2231, -0.1885, -0.1152, 0.0, 0.454, -0.3137, -0.1643, -0.1093, -0.105, -0.0995, -0.0898, -0.0869, -0.0609, -0.0575, 0.0, 0.0316, -0.0245, -0.0173, -0.01, 0.0])]\n",
      "Test: [DenseVector([-0.0349, -0.3315, -0.398, 0.0, 0.0, -0.01, -0.0907, 0.0, -3.9934, -0.014, -0.0283, -0.0141, -0.0135, -0.0214, -0.0141, -0.0371, 0.0, 0.0, -0.1093, -0.6723, -0.7616, -0.0587, -0.0596, 0.0, 0.0, 0.0828, -0.0829, -0.4651, 1.4066, 0.5638, 0.3285, -0.1164, -0.4303, -0.5242, -0.1213, -0.1292, 0.0, 0.0, -4.4827, 5.3058, -0.1152, 0.0, -2.2025, -0.3137, -0.1643, -0.1093, -0.105, -0.0995, -0.0898, -0.0869, -0.0609, -0.0575, 0.0, 0.0316, -0.0245, -0.0173, -0.01, 0.0])]\n"
     ]
    }
   ],
   "source": [
    "from pyspark.mllib.feature import StandardScaler\n",
    "\n",
    "std = StandardScaler(withMean=True, withStd=True)\n",
    "model = std.fit(tr_threat)\n",
    "\n",
    "std_tr_threat = model.transform(tr_threat)\n",
    "std_ts_threat = model.transform(ts_threat)\n",
    "\n",
    "print(\"Train:\", std_tr_threat.take(1))\n",
    "print(\"Test:\",  std_ts_threat.take(1))"
   ]
  },
  {
   "cell_type": "markdown",
   "metadata": {},
   "source": [
    "**Preparation of multinomial labels**"
   ]
  },
  {
   "cell_type": "code",
   "execution_count": 13,
   "metadata": {},
   "outputs": [
    {
     "data": {
      "text/plain": [
       "[('normal.',\n",
       "  DenseVector([-0.0349, -0.198, 3.8659, 0.0, 0.0, -0.01, -0.0907, 0.0, 0.2504, -0.014, -0.0283, -0.0141, -0.0135, -0.0214, -0.0141, -0.0371, 0.0, 0.0, -0.1093, -0.7925, -0.8653, -0.0587, -0.0596, 0.0, 0.0, 0.0828, -0.0829, -0.4651, -1.1016, -2.5515, -5.1268, -0.2638, -0.4303, -0.5242, -0.1213, -0.1292, 0.0, 0.0, 0.2231, -0.1885, -0.1152, 0.0, 0.454, -0.3137, -0.1643, -0.1093, -0.105, -0.0995, -0.0898, -0.0869, -0.0609, -0.0575, 0.0, 0.0316, -0.0245, -0.0173, -0.01, 0.0]))]"
      ]
     },
     "execution_count": 13,
     "metadata": {},
     "output_type": "execute_result"
    }
   ],
   "source": [
    "from pyspark.mllib.regression import LabeledPoint\n",
    "\n",
    "std_train_data = ltr_threat.zip(std_tr_threat)\n",
    "std_test_data  = lts_threat.zip(std_ts_threat)\n",
    "\n",
    "std_train_data.take(1)"
   ]
  },
  {
   "cell_type": "code",
   "execution_count": 14,
   "metadata": {},
   "outputs": [
    {
     "name": "stdout",
     "output_type": "stream",
     "text": [
      "10000\n",
      "[LabeledPoint(0.0, [-0.034868990958710405,-0.19803220930343068,3.8659241350435996,0.0,0.0,-0.01,-0.09066522725622918,0.0,0.25038567487959407,-0.013983654288806035,-0.028294176933755945,-0.014142842854277925,-0.01348451429961592,-0.021439818318327676,-0.014142842854277925,-0.03712073783854319,0.0,0.0,-0.1092689734600817,-0.7924850388604233,-0.8652529752378376,-0.058696891180846665,-0.05959745143042871,0.0,0.0,0.08278133964448649,-0.0829141719549872,-0.4651418763688911,-1.1016447409071428,-2.5515104669944364,-5.1268232004429475,-0.26379353774751146,-0.4302509585418046,-0.5241644391710493,-0.12133703729068722,-0.1291883996999241,0.0,0.0,0.22305510457435032,-0.18845350904108282,-0.11520659939046377,0.0,0.4539895517371291,-0.3137011887965562,-0.1643401100385565,-0.1092689734600817,-0.10497150703140372,-0.09947864498432611,-0.08979816076857786,-0.08692479160438635,-0.06093742254992414,-0.057537769885347055,0.0,0.03163701788887351,-0.024501024062435935,-0.017322240559621654,-0.01,0.0]), LabeledPoint(0.0, [-0.034868990958710405,-0.26233090205468984,0.01786665765563547,0.0,0.0,-0.01,-0.09066522725622918,0.0,0.25038567487959407,-0.013983654288806035,-0.028294176933755945,-0.014142842854277925,-0.01348451429961592,-0.021439818318327676,-0.014142842854277925,-0.03712073783854319,0.0,0.0,-0.1092689734600817,-0.6723095810688994,-0.761576474136931,-0.058696891180846665,-0.05959745143042871,0.0,0.0,0.08278133964448649,-0.0829141719549872,-0.4651418763688911,-1.0918083636746532,-2.5392454648794023,0.32852081671314054,-0.26379353774751146,4.14479405854404,-0.5241644391710493,-0.12133703729068722,-0.1291883996999241,0.0,0.0,0.22305510457435032,-0.18845350904108282,-0.11520659939046377,0.0,0.4539895517371291,-0.3137011887965562,-0.1643401100385565,-0.1092689734600817,-0.10497150703140372,-0.09947864498432611,-0.08979816076857786,-0.08692479160438635,-0.06093742254992414,-0.057537769885347055,0.0,0.03163701788887351,-0.024501024062435935,-0.017322240559621654,-0.01,0.0]), LabeledPoint(0.0, [-0.034868990958710405,-0.17255536877934688,-0.2953075969408991,0.0,0.0,-0.01,-0.09066522725622918,0.0,0.25038567487959407,-0.013983654288806035,-0.028294176933755945,-0.014142842854277925,-0.01348451429961592,-0.021439818318327676,-0.014142842854277925,-0.03712073783854319,0.0,0.0,-0.1092689734600817,-0.7924850388604233,-0.8652529752378376,-0.058696891180846665,-0.05959745143042871,0.0,0.0,0.08278133964448649,-0.0829141719549872,-0.4651418763688911,-1.0819719864421635,-2.5269804627643677,0.32852081671314054,-0.26379353774751146,1.8572715500011177,-0.5241644391710493,-0.12133703729068722,-0.1291883996999241,0.0,0.0,0.22305510457435032,-0.18845350904108282,-0.11520659939046377,0.0,0.4539895517371291,-0.3137011887965562,-0.1643401100385565,-0.1092689734600817,-0.10497150703140372,-0.09947864498432611,-0.08979816076857786,-0.08692479160438635,-0.06093742254992414,-0.057537769885347055,0.0,0.03163701788887351,-0.024501024062435935,-0.017322240559621654,-0.01,0.0]), LabeledPoint(0.0, [-0.034868990958710405,-0.1701290030151484,-0.2901829273202285,0.0,0.0,-0.01,-0.09066522725622918,0.0,0.25038567487959407,-0.013983654288806035,-0.028294176933755945,-0.014142842854277925,-0.01348451429961592,-0.021439818318327676,-0.014142842854277925,-0.03712073783854319,0.0,0.0,-0.1092689734600817,-0.4319586654858515,-0.5542234719351177,-0.058696891180846665,-0.05959745143042871,0.0,0.0,0.08278133964448649,-0.0829141719549872,-0.4651418763688911,-1.0524628547446946,-2.490185456419264,0.32852081671314054,-0.26379353774751146,0.4847580448753643,-0.5241644391710493,-0.12133703729068722,-0.1291883996999241,0.0,0.0,0.22305510457435032,-0.18845350904108282,-0.11520659939046377,0.0,0.4539895517371291,-0.3137011887965562,-0.1643401100385565,-0.1092689734600817,-0.10497150703140372,-0.09947864498432611,-0.08979816076857786,-0.08692479160438635,-0.06093742254992414,-0.057537769885347055,0.0,0.03163701788887351,-0.024501024062435935,-0.017322240559621654,-0.01,0.0]), LabeledPoint(0.0, [-0.034868990958710405,-0.17498173454354532,-0.28240102159995095,0.0,0.0,-0.01,-0.09066522725622918,0.0,0.25038567487959407,-0.013983654288806035,-0.028294176933755945,-0.014142842854277925,-0.01348451429961592,-0.021439818318327676,-0.014142842854277925,-0.03712073783854319,0.0,0.0,-0.1092689734600817,-0.19160774990280358,-0.3468704697333044,-0.058696891180846665,-0.05959745143042871,0.0,0.0,0.08278133964448649,-0.0829141719549872,-0.4651418763688911,-1.0327901002797153,-2.465655452189195,0.32852081671314054,-0.26379353774751146,0.21025534385021363,-0.5241644391710493,-0.12133703729068722,-0.1291883996999241,0.0,0.0,0.22305510457435032,-0.18845350904108282,-0.11520659939046377,0.0,0.4539895517371291,-0.3137011887965562,-0.1643401100385565,-0.1092689734600817,-0.10497150703140372,-0.09947864498432611,-0.08979816076857786,-0.08692479160438635,-0.06093742254992414,-0.057537769885347055,0.0,0.03163701788887351,-0.024501024062435935,-0.017322240559621654,-0.01,0.0]), LabeledPoint(0.0, [-0.034868990958710405,-0.16891582013304918,-0.2889492105596967,0.0,0.0,-0.01,-0.09066522725622918,0.0,0.25038567487959407,-0.013983654288806035,-0.028294176933755945,-0.014142842854277925,-0.01348451429961592,-0.021439818318327676,-0.014142842854277925,-0.03712073783854319,0.0,0.0,-0.1092689734600817,-0.07143229211127963,-0.24319396863239773,-0.058696891180846665,-0.05959745143042871,0.0,0.0,0.08278133964448649,-0.0829141719549872,-0.4651418763688911,-1.0229537230472256,-2.4533904500741603,0.32852081671314054,-0.26379353774751146,0.11875444350849666,-0.5241644391710493,-0.12133703729068722,-0.1291883996999241,0.0,0.0,0.22305510457435032,-0.18845350904108282,-0.11520659939046377,0.0,0.4539895517371291,-0.3137011887965562,-0.1643401100385565,-0.1092689734600817,-0.10497150703140372,-0.09947864498432611,-0.08979816076857786,-0.08692479160438635,-0.06093742254992414,-0.057537769885347055,0.0,0.03163701788887351,-0.024501024062435935,-0.017322240559621654,-0.01,0.0]), LabeledPoint(0.0, [-0.034868990958710405,-0.23928042729480448,0.10536564636412178,0.0,0.0,-0.01,-0.09066522725622918,0.0,0.25038567487959407,-0.013983654288806035,-0.028294176933755945,-0.014142842854277925,-0.01348451429961592,-0.021439818318327676,-0.014142842854277925,-0.03712073783854319,0.0,0.0,-0.1092689734600817,0.048743165680244324,-0.13951746753149108,-0.058696891180846665,-0.05959745143042871,0.0,0.0,0.08278133964448649,-0.0829141719549872,-0.4651418763688911,-1.0131173458147358,-2.4411254479591262,0.32852081671314054,-0.26379353774751146,0.07300399333763824,-0.5241644391710493,-0.12133703729068722,-0.1291883996999241,0.0,0.0,0.22305510457435032,-0.18845350904108282,-0.11520659939046377,0.0,0.4539895517371291,-0.3137011887965562,-0.1643401100385565,-0.1092689734600817,-0.10497150703140372,-0.09947864498432611,-0.08979816076857786,-0.08692479160438635,-0.06093742254992414,-0.057537769885347055,0.0,0.03163701788887351,-0.024501024062435935,-0.017322240559621654,-0.01,0.0]), LabeledPoint(0.0, [-0.034868990958710405,-0.23564087864850677,-0.4000786202968306,0.0,0.0,-0.01,-0.09066522725622918,0.0,0.25038567487959407,-0.013983654288806035,-0.028294176933755945,-0.014142842854277925,-0.01348451429961592,-0.021439818318327676,-0.014142842854277925,-0.03712073783854319,0.0,0.0,-0.1092689734600817,-0.7924850388604233,-0.8652529752378376,-0.058696891180846665,-0.05959745143042871,0.0,0.0,0.08278133964448649,-0.0829141719549872,-0.4651418763688911,-1.0032809685822461,-2.4288604458440917,0.32852081671314054,-0.26379353774751146,0.02725354316677982,-0.5241644391710493,-0.12133703729068722,-0.1291883996999241,0.0,0.0,0.22305510457435032,-0.18845350904108282,-0.11520659939046377,0.0,0.4539895517371291,-0.3137011887965562,-0.1643401100385565,-0.1092689734600817,-0.10497150703140372,-0.09947864498432611,-0.08979816076857786,-0.08692479160438635,-0.06093742254992414,-0.057537769885347055,0.0,0.03163701788887351,-0.024501024062435935,-0.017322240559621654,-0.01,0.0]), LabeledPoint(0.0, [-0.034868990958710405,-0.23442769576640757,0.44416324906400917,0.0,0.0,-0.01,-0.09066522725622918,0.0,0.25038567487959407,-0.013983654288806035,-0.028294176933755945,-0.014142842854277925,-0.01348451429961592,-0.021439818318327676,-0.014142842854277925,-0.03712073783854319,0.0,0.0,-0.1092689734600817,-0.6723095810688994,-0.761576474136931,-0.058696891180846665,-0.05959745143042871,0.0,0.0,0.08278133964448649,-0.0829141719549872,-0.4651418763688911,-0.9934445913497566,-2.416595443729057,0.32852081671314054,-0.26379353774751146,-0.01849690700407866,-0.5241644391710493,-0.12133703729068722,-0.1291883996999241,0.0,0.0,0.22305510457435032,-0.18845350904108282,-0.11520659939046377,0.0,0.4539895517371291,-0.3137011887965562,-0.1643401100385565,-0.1092689734600817,-0.10497150703140372,-0.09947864498432611,-0.08979816076857786,-0.08692479160438635,-0.06093742254992414,-0.057537769885347055,0.0,0.03163701788887351,-0.024501024062435935,-0.017322240559621654,-0.01,0.0]), LabeledPoint(0.0, [-0.034868990958710405,-0.16891582013304918,-0.2889492105596967,0.0,0.0,-0.01,-0.09066522725622918,0.0,0.25038567487959407,-0.013983654288806035,-0.028294176933755945,-0.014142842854277925,-0.01348451429961592,-0.021439818318327676,-0.014142842854277925,-0.03712073783854319,0.0,0.0,-0.1092689734600817,-0.7924850388604233,-0.8652529752378376,-0.058696891180846665,-0.05959745143042871,0.0,0.0,0.08278133964448649,-0.0829141719549872,-0.4651418763688911,-0.9836082141172668,-2.4043304416140225,0.32852081671314054,-0.26379353774751146,-0.06424735717493708,-0.5241644391710493,-0.12133703729068722,-0.1291883996999241,0.0,0.0,0.22305510457435032,-0.18845350904108282,-0.11520659939046377,0.0,0.4539895517371291,-0.3137011887965562,-0.1643401100385565,-0.1092689734600817,-0.10497150703140372,-0.09947864498432611,-0.08979816076857786,-0.08692479160438635,-0.06093742254992414,-0.057537769885347055,0.0,0.03163701788887351,-0.024501024062435935,-0.017322240559621654,-0.01,0.0]), LabeledPoint(0.0, [-0.034868990958710405,-0.23928042729480448,0.10536564636412178,0.0,0.0,-0.01,-0.09066522725622918,0.0,0.25038567487959407,-0.013983654288806035,-0.028294176933755945,-0.014142842854277925,-0.01348451429961592,-0.021439818318327676,-0.014142842854277925,-0.03712073783854319,0.0,0.0,-0.1092689734600817,-0.6723095810688994,-0.761576474136931,-0.058696891180846665,-0.05959745143042871,0.0,0.0,0.08278133964448649,-0.0829141719549872,-0.4651418763688911,-0.9737718368847772,-2.392065439498988,0.32852081671314054,-0.26379353774751146,-0.06424735717493708,-0.5241644391710493,-0.12133703729068722,-0.1291883996999241,0.0,0.0,0.22305510457435032,-0.18845350904108282,-0.11520659939046377,0.0,0.4539895517371291,-0.3137011887965562,-0.1643401100385565,-0.1092689734600817,-0.10497150703140372,-0.09947864498432611,-0.08979816076857786,-0.08692479160438635,-0.06093742254992414,-0.057537769885347055,0.0,0.03163701788887351,-0.024501024062435935,-0.017322240559621654,-0.01,0.0]), LabeledPoint(0.0, [-0.034868990958710405,-0.17255536877934688,-0.2953075969408991,0.0,0.0,-0.01,-0.09066522725622918,0.0,0.25038567487959407,-0.013983654288806035,-0.028294176933755945,-0.014142842854277925,-0.01348451429961592,-0.021439818318327676,-0.014142842854277925,-0.03712073783854319,0.0,0.0,-0.1092689734600817,-0.5521341232773754,-0.6578999730360243,-0.058696891180846665,-0.05959745143042871,0.0,0.0,0.08278133964448649,-0.0829141719549872,-0.4651418763688911,-0.9639354596522876,-2.3798004373839534,0.32852081671314054,-0.26379353774751146,-0.10999780734579549,-0.5241644391710493,-0.12133703729068722,-0.1291883996999241,0.0,0.0,0.22305510457435032,-0.18845350904108282,-0.11520659939046377,0.0,0.4539895517371291,-0.3137011887965562,-0.1643401100385565,-0.1092689734600817,-0.10497150703140372,-0.09947864498432611,-0.08979816076857786,-0.08692479160438635,-0.06093742254992414,-0.057537769885347055,0.0,0.03163701788887351,-0.024501024062435935,-0.017322240559621654,-0.01,0.0]), LabeledPoint(0.0, [-0.034868990958710405,-0.17498173454354532,-0.28240102159995095,0.0,0.0,-0.01,-0.09066522725622918,0.0,0.25038567487959407,-0.013983654288806035,-0.028294176933755945,-0.014142842854277925,-0.01348451429961592,-0.021439818318327676,-0.014142842854277925,-0.03712073783854319,0.0,0.0,-0.1092689734600817,-0.07143229211127963,-0.24319396863239773,-0.058696891180846665,-0.05959745143042871,0.0,0.0,0.08278133964448649,-0.0829141719549872,-0.4651418763688911,-0.924589950722329,-2.3307404289238156,0.32852081671314054,-0.26379353774751146,-0.15574825751665397,-0.5241644391710493,-0.12133703729068722,-0.1291883996999241,0.0,0.0,0.22305510457435032,-0.18845350904108282,-0.11520659939046377,0.0,0.4539895517371291,-0.3137011887965562,-0.1643401100385565,-0.1092689734600817,-0.10497150703140372,-0.09947864498432611,-0.08979816076857786,-0.08692479160438635,-0.06093742254992414,-0.057537769885347055,0.0,0.03163701788887351,-0.024501024062435935,-0.017322240559621654,-0.01,0.0]), LabeledPoint(0.0, [-0.034868990958710405,-0.16891582013304918,-0.3657243535804835,0.0,0.0,-0.01,-0.09066522725622918,0.0,0.25038567487959407,-0.013983654288806035,-0.028294176933755945,-0.014142842854277925,-0.01348451429961592,-0.021439818318327676,-0.014142842854277925,-0.03712073783854319,0.0,0.0,-0.1092689734600817,0.048743165680244324,-0.13951746753149108,-0.058696891180846665,-0.05959745143042871,0.0,0.0,0.08278133964448649,-0.0829141719549872,-0.4651418763688911,-0.9147535734898392,-2.318475426808781,0.32852081671314054,-0.26379353774751146,-0.2014987076875124,-0.5241644391710493,-0.12133703729068722,-0.1291883996999241,0.0,0.0,0.22305510457435032,-0.18845350904108282,-0.11520659939046377,0.0,0.4539895517371291,-0.3137011887965562,-0.1643401100385565,-0.1092689734600817,-0.10497150703140372,-0.09947864498432611,-0.08979816076857786,-0.08692479160438635,-0.06093742254992414,-0.057537769885347055,0.0,0.03163701788887351,-0.024501024062435935,-0.017322240559621654,-0.01,0.0]), LabeledPoint(0.0, [-0.034868990958710405,-0.23442769576640757,0.44416324906400917,0.0,0.0,-0.01,-0.09066522725622918,0.0,0.25038567487959407,-0.013983654288806035,-0.028294176933755945,-0.014142842854277925,-0.01348451429961592,-0.021439818318327676,-0.014142842854277925,-0.03712073783854319,0.0,0.0,-0.1092689734600817,-0.7924850388604233,-0.8652529752378376,-0.058696891180846665,-0.05959745143042871,0.0,0.0,0.08278133964448649,-0.0829141719549872,-0.4651418763688911,-0.9049171962573496,-2.3062104246937465,0.32852081671314054,-0.26379353774751146,-0.2014987076875124,-0.5241644391710493,-0.12133703729068722,-0.1291883996999241,0.0,0.0,0.22305510457435032,-0.18845350904108282,-0.11520659939046377,0.0,0.4539895517371291,-0.3137011887965562,-0.1643401100385565,-0.1092689734600817,-0.10497150703140372,-0.09947864498432611,-0.08979816076857786,-0.08692479160438635,-0.06093742254992414,-0.057537769885347055,0.0,0.03163701788887351,-0.024501024062435935,-0.017322240559621654,-0.01,0.0]), LabeledPoint(0.0, [-0.034868990958710405,-0.23564087864850677,-0.4000786202968306,0.0,0.0,-0.01,-0.09066522725622918,0.0,0.25038567487959407,-0.013983654288806035,-0.028294176933755945,-0.014142842854277925,-0.01348451429961592,-0.021439818318327676,-0.014142842854277925,-0.03712073783854319,0.0,0.0,-0.1092689734600817,-0.6723095810688994,-0.761576474136931,-0.058696891180846665,-0.05959745143042871,0.0,0.0,0.08278133964448649,-0.0829141719549872,-0.4651418763688911,-0.8950808190248599,-2.293945422578712,0.32852081671314054,-0.26379353774751146,-0.2014987076875124,-0.5241644391710493,-0.12133703729068722,-0.1291883996999241,0.0,0.0,0.22305510457435032,-0.18845350904108282,-0.11520659939046377,0.0,0.4539895517371291,-0.3137011887965562,-0.1643401100385565,-0.1092689734600817,-0.10497150703140372,-0.09947864498432611,-0.08979816076857786,-0.08692479160438635,-0.06093742254992414,-0.057537769885347055,0.0,0.03163701788887351,-0.024501024062435935,-0.017322240559621654,-0.01,0.0]), LabeledPoint(0.0, [-0.034868990958710405,-0.16891582013304918,-0.2889492105596967,0.0,0.0,-0.01,-0.09066522725622918,0.0,0.25038567487959407,-0.013983654288806035,-0.028294176933755945,-0.014142842854277925,-0.01348451429961592,-0.021439818318327676,-0.014142842854277925,-0.03712073783854319,0.0,0.0,-0.1092689734600817,-0.6723095810688994,-0.761576474136931,-0.058696891180846665,-0.05959745143042871,0.0,0.0,0.08278133964448649,-0.0829141719549872,-0.4651418763688911,-0.8754080645598806,-2.269415418348643,0.32852081671314054,-0.26379353774751146,-0.24724915785837084,-0.5241644391710493,-0.12133703729068722,-0.1291883996999241,0.0,0.0,0.22305510457435032,-0.18845350904108282,-0.11520659939046377,0.0,0.4539895517371291,-0.3137011887965562,-0.1643401100385565,-0.1092689734600817,-0.10497150703140372,-0.09947864498432611,-0.08979816076857786,-0.08692479160438635,-0.06093742254992414,-0.057537769885347055,0.0,0.03163701788887351,-0.024501024062435935,-0.017322240559621654,-0.01,0.0]), LabeledPoint(0.0, [-0.034868990958710405,-0.17255536877934688,-0.2953075969408991,0.0,0.0,-0.01,-0.09066522725622918,0.0,0.25038567487959407,-0.013983654288806035,-0.028294176933755945,-0.014142842854277925,-0.01348451429961592,-0.021439818318327676,-0.014142842854277925,-0.03712073783854319,0.0,0.0,-0.1092689734600817,-0.5521341232773754,-0.6578999730360243,-0.058696891180846665,-0.05959745143042871,0.0,0.0,0.08278133964448649,-0.0829141719549872,-0.4651418763688911,-0.865571687327391,-2.2571504162336082,0.32852081671314054,-0.26379353774751146,-0.24724915785837084,-0.5241644391710493,-0.12133703729068722,-0.1291883996999241,0.0,0.0,0.22305510457435032,-0.18845350904108282,-0.11520659939046377,0.0,0.4539895517371291,-0.3137011887965562,-0.1643401100385565,-0.1092689734600817,-0.10497150703140372,-0.09947864498432611,-0.08979816076857786,-0.08692479160438635,-0.06093742254992414,-0.057537769885347055,0.0,0.03163701788887351,-0.024501024062435935,-0.017322240559621654,-0.01,0.0]), LabeledPoint(0.0, [-0.034868990958710405,-0.16891582013304918,-0.3657243535804835,0.0,0.0,-0.01,-0.09066522725622918,0.0,0.25038567487959407,-0.013983654288806035,-0.028294176933755945,-0.014142842854277925,-0.01348451429961592,-0.021439818318327676,-0.014142842854277925,-0.03712073783854319,0.0,0.0,-0.1092689734600817,-0.31178320769432755,-0.450546970834211,-0.058696891180846665,-0.05959745143042871,0.0,0.0,0.08278133964448649,-0.0829141719549872,-0.4651418763688911,-0.8458989328624116,-2.2326204120035396,0.32852081671314054,-0.26379353774751146,-0.24724915785837084,-0.5241644391710493,-0.12133703729068722,-0.1291883996999241,0.0,0.0,0.22305510457435032,-0.18845350904108282,-0.11520659939046377,0.0,0.4539895517371291,-0.3137011887965562,-0.1643401100385565,-0.1092689734600817,-0.10497150703140372,-0.09947864498432611,-0.08979816076857786,-0.08692479160438635,-0.06093742254992414,-0.057537769885347055,0.0,0.03163701788887351,-0.024501024062435935,-0.017322240559621654,-0.01,0.0]), LabeledPoint(0.0, [-0.034868990958710405,-0.1701290030151484,-0.2901829273202285,0.0,0.0,-0.01,-0.09066522725622918,0.0,0.25038567487959407,-0.013983654288806035,-0.028294176933755945,-0.014142842854277925,-0.01348451429961592,-0.021439818318327676,-0.014142842854277925,-0.03712073783854319,0.0,0.0,-0.1092689734600817,-0.19160774990280358,-0.3468704697333044,-0.058696891180846665,-0.05959745143042871,0.0,0.0,0.08278133964448649,-0.0829141719549872,-0.4651418763688911,-0.8360625556299219,-2.220355409888505,0.32852081671314054,-0.26379353774751146,-0.24724915785837084,-0.5241644391710493,-0.12133703729068722,-0.1291883996999241,0.0,0.0,0.22305510457435032,-0.18845350904108282,-0.11520659939046377,0.0,0.4539895517371291,-0.3137011887965562,-0.1643401100385565,-0.1092689734600817,-0.10497150703140372,-0.09947864498432611,-0.08979816076857786,-0.08692479160438635,-0.06093742254992414,-0.057537769885347055,0.0,0.03163701788887351,-0.024501024062435935,-0.017322240559621654,-0.01,0.0])]\n"
     ]
    },
    {
     "name": "stderr",
     "output_type": "stream",
     "text": []
    }
   ],
   "source": [
    "def prepare_multinomial_classifier_data(label, data_vector):\n",
    "    attack = -1\n",
    "    for l in labels:\n",
    "        if l in label:\n",
    "            attack = labels.index(l)\n",
    "    \n",
    "    return LabeledPoint(attack, data_vector)\n",
    "\n",
    "train_data = std_train_data.map(lambda x: prepare_multinomial_classifier_data(x[0], x[1])).filter(lambda p: p.label >= 0)\n",
    "test_data  = std_test_data.map(lambda x: prepare_multinomial_classifier_data(x[0], x[1])).filter(lambda p: p.label >= 0)\n",
    "\n",
    "print(train_data.count())\n",
    "print(train_data.take(20))"
   ]
  },
  {
   "cell_type": "markdown",
   "metadata": {},
   "source": [
    "**Descriptive statistics on the labelled points of data, having been scaled and mapped.**"
   ]
  },
  {
   "cell_type": "code",
   "execution_count": 15,
   "metadata": {},
   "outputs": [
    {
     "name": "stderr",
     "output_type": "stream",
     "text": []
    },
    {
     "data": {
      "image/png": "[encoded data removed]",
      "text/plain": [
       "<Figure size 432x288 with 1 Axes>"
      ]
     },
     "metadata": {
      "needs_background": "light"
     },
     "output_type": "display_data"
    },
    {
     "data": {
      "image/png": "[encoded data removed]",
      "text/plain": [
       "<Figure size 432x288 with 1 Axes>"
      ]
     },
     "metadata": {
      "needs_background": "light"
     },
     "output_type": "display_data"
    }
   ],
   "source": [
    "tr_threat  = train_data.map(lambda p: p.features)\n",
    "ltr_threat = train_data.map(lambda p: labels[int(p.label)])\n",
    "\n",
    "ts_threat  = test_data.map(lambda p: p.features)\n",
    "lts_threat = test_data.map(lambda p: labels[int(p.label)])\n",
    "\n",
    "_ = descriptive_statistics(ltr_threat)\n",
    "_ = descriptive_statistics(lts_threat)"
   ]
  },
  {
   "cell_type": "markdown",
   "metadata": {},
   "source": [
    "**Representation of the logistic function**"
   ]
  },
  {
   "cell_type": "code",
   "execution_count": 16,
   "metadata": {},
   "outputs": [
    {
     "data": {
      "image/png": "[encoded data removed]",
      "text/plain": [
       "<Figure size 432x288 with 1 Axes>"
      ]
     },
     "metadata": {
      "needs_background": "light"
     },
     "output_type": "display_data"
    }
   ],
   "source": [
    "x = np.linspace(-10, 10, 1000)\n",
    "plt.plot(x, 1 / (1 + np.exp(-0.5 * x)))\n",
    "plt.title(\"Logistic function\")\n",
    "plt.show()"
   ]
  },
  {
   "cell_type": "markdown",
   "metadata": {},
   "source": [
    "**Modelling**"
   ]
  },
  {
   "cell_type": "code",
   "execution_count": 17,
   "metadata": {},
   "outputs": [
    {
     "name": "stderr",
     "output_type": "stream",
     "text": []
    },
    {
     "name": "stdout",
     "output_type": "stream",
     "text": [
      "[0.13982624301852764,0.04476319051081441,0.04075492572825943,0.0,0.0,9.910971820090552,0.13560708015722162,0.0,0.24896479720141662,830.5146093701392,0.1956646336977256,80.71710348490967,-904.3811296378548,-11.020469896357362,-0.06876876724084875,-0.09474516910106723,0.0,0.0,-0.057975206791312545,-0.20746239730557964,0.21586683490655117,-0.0881081974270737,0.1280174330386091,0.0,0.0,-0.6089734567290003,-0.5632337605925432,-0.028492575519701704,0.12418056707732893,-0.017542621037617622,0.08428413319709759,-0.09790831720806265,-0.04900352056352809,0.11007161531877865,0.14359229072563576,-0.3332456848460274,0.0,0.0,-0.06554899963950708,0.06035547746175633,0.025892724803410577,0.0,-0.04933816077646778,0.0006897702916871466,0.04270289219944748,-0.057975206791312545,0.07933678287890004,0.007535072444855905,0.046596845970901586,-0.03385931002270263,0.08877950623969658,0.0383920347107816,0.0,0.028862241425413174,-0.03038722875725534,0.024876289898408097,-0.05989743243342027,0.0]\n"
     ]
    }
   ],
   "source": [
    "from pyspark.mllib.classification import LogisticRegressionWithLBFGS, LogisticRegressionModel\n",
    "\n",
    "logistic_model = LogisticRegressionWithLBFGS.train(train_data, numClasses=len(labels), intercept=False)\n",
    "\n",
    "print(logistic_model.weights)"
   ]
  },
  {
   "cell_type": "markdown",
   "metadata": {},
   "source": [
    "**Evaluating the model**"
   ]
  },
  {
   "cell_type": "code",
   "execution_count": 18,
   "metadata": {},
   "outputs": [
    {
     "name": "stdout",
     "output_type": "stream",
     "text": [
      "[('OK', 649), ('KO', 54)]\n"
     ]
    }
   ],
   "source": [
    "label_and_prediction = test_data.map(lambda p: (p.label, logistic_model.predict(p.features)))\n",
    "\n",
    "def count_OK_vs_KO(value):\n",
    "    real_value = value[0]\n",
    "    predicted_value = value[1]\n",
    "\n",
    "    result = 'OK' if real_value == predicted_value else 'KO'\n",
    "    return (result, 1)\n",
    "\n",
    "results = label_and_prediction.map(count_OK_vs_KO).reduceByKey(add).collect()\n",
    "\n",
    "print(results)"
   ]
  },
  {
   "cell_type": "code",
   "execution_count": 19,
   "metadata": {},
   "outputs": [
    {
     "name": "stdout",
     "output_type": "stream",
     "text": [
      "Error: 7.681365576102418%\n"
     ]
    }
   ],
   "source": [
    "def compute_error(results):\n",
    "    results_matrix = {}\n",
    "    results_matrix[results[0][0]] = results[0][1]\n",
    "    results_matrix[results[1][0]] = results[1][1]\n",
    "\n",
    "    error = float(results_matrix['KO']) * 100 / (float(results_matrix['OK']) + float(results_matrix['KO']))\n",
    "    return error\n",
    "\n",
    "error = compute_error(results)\n",
    "print(\"Error: {}%\".format(error, 2))"
   ]
  },
  {
   "cell_type": "code",
   "execution_count": 20,
   "metadata": {},
   "outputs": [],
   "source": [
    "from shutil import rmtree\n",
    "\n",
    "path = \"./QualitativeMultinomialModel\"\n",
    "\n",
    "try:\n",
    "    rmtree(path)\n",
    "except:\n",
    "    pass\n",
    "\n",
    "logistic_model.save(context, path)"
   ]
  },
  {
   "cell_type": "markdown",
   "metadata": {},
   "source": [
    "**Production-ready model**"
   ]
  },
  {
   "cell_type": "code",
   "execution_count": 21,
   "metadata": {},
   "outputs": [],
   "source": [
    "logistic_model_prod = LogisticRegressionModel.load(context, path)"
   ]
  },
  {
   "cell_type": "markdown",
   "metadata": {},
   "source": [
    "**Confusion matrix from the multinomial classifier**"
   ]
  },
  {
   "cell_type": "code",
   "execution_count": 22,
   "metadata": {},
   "outputs": [
    {
     "name": "stdout",
     "output_type": "stream",
     "text": [
      "[['0_0' '54']\n",
      " ['0_1' '649']]\n"
     ]
    }
   ],
   "source": [
    "def count_confusion(values):\n",
    "    real_value = values[0]\n",
    "    predicted_value = values[1]\n",
    "    return (str(int(real_value)) + '_' + str(int(predicted_value)), 1)\n",
    "\n",
    "classification_result = label_and_prediction.map(count_confusion).reduceByKey(add).collect()\n",
    "classification_result = np.sort(np.reshape(classification_result, (len(classification_result), 2)), axis=0)\n",
    "print(classification_result)"
   ]
  },
  {
   "cell_type": "code",
   "execution_count": 23,
   "metadata": {},
   "outputs": [
    {
     "name": "stdout",
     "output_type": "stream",
     "text": [
      "[[ 54 649]\n",
      " [  0   0]]\n"
     ]
    }
   ],
   "source": [
    "def compute_absolute_freq_matrix(classification):\n",
    "    num_classes = len(labels)\n",
    "    matrix = np.zeros((num_classes, num_classes), dtype=np.uint32)\n",
    "    for result in classification:\n",
    "        c = [ int(r) for r in result[0].split('_') ]\n",
    "        matrix[c[0], c[1]] = result[1]\n",
    "    return matrix\n",
    "\n",
    "abs_freq_matrix = compute_absolute_freq_matrix(classification_result)\n",
    "print(abs_freq_matrix)"
   ]
  },
  {
   "cell_type": "code",
   "execution_count": null,
   "metadata": {},
   "outputs": [],
   "source": []
  }
 ],
 "metadata": {
  "interpreter": {
   "hash": "31f2aee4e71d21fbe5cf8b01ff0e069b9275f58929596ceb00d14d90e3e16cd6"
  },
  "kernelspec": {
   "display_name": "Python 3.8.10 64-bit",
   "name": "python3"
  },
  "language_info": {
   "codemirror_mode": {
    "name": "ipython",
    "version": 3
   },
   "file_extension": ".py",
   "mimetype": "text/x-python",
   "name": "python",
   "nbconvert_exporter": "python",
   "pygments_lexer": "ipython3",
   "version": "3.8.10"
  }
 },
 "nbformat": 4,
 "nbformat_minor": 2
}
